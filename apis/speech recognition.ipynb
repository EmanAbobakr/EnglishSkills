{
 "cells": [
  {
   "cell_type": "code",
   "execution_count": null,
   "metadata": {},
   "outputs": [],
   "source": []
  },
  {
   "cell_type": "code",
   "execution_count": null,
   "metadata": {},
   "outputs": [],
   "source": [
    "CHECK(\"he is playing and running\",1)"
   ]
  },
  {
   "cell_type": "code",
   "execution_count": null,
   "metadata": {},
   "outputs": [],
   "source": [
    "import os\n",
    "import librosa\n",
    "import IPython.display as ipd\n",
    "import numpy as np\n",
    "import sounddevice as sd\n",
    "import soundfile as sf\n",
    "from keras.models import load_model\n",
    "from flask import Flask\n",
    "from flask_restful import Resource, Api\n",
    "import flask_restful as restful\n",
    "from flask import Flask, render_template ,request\n",
    "from flask import jsonify,make_response\n",
    "app = Flask(__name__)\n",
    "@app.route(\"/SPEECH\", methods=[\"GET\"])\n",
    "def index():\n",
    "    f= str(request.args['Query'])\n",
    "    response= predict(f)\n",
    "    return response\n",
    "\n",
    "def predict(file): \n",
    "    samples, sample_rate = librosa.load(file, sr = 16000)\n",
    "    samples = librosa.resample(samples, sample_rate, 8000)\n",
    "    ipd.Audio(samples,rate=8000)\n",
    "    classes =['bathroom','bedroom','down' , 'heat' , 'heating' , 'increase' , 'kitchen' , 'language' , \n",
    "          'lights' , 'switch' ,'temperature','turn','up','volume','washroom']\n",
    "    model=load_model('C:/Users/iMezo/Desktop/test_API2/best_model/best_model.hdf5')\n",
    "    prob=model.predict(samples.reshape(1,8000,1))\n",
    "    index=np.argmax(prob[0])\n",
    "    return jsonify({\"data\":classes[index]}) \n",
    "\n",
    "if __name__==\"__main__\":\n",
    "    app.run()\n"
   ]
  }
 ],
 "metadata": {
  "kernelspec": {
   "display_name": "Python 3",
   "language": "python",
   "name": "python3"
  },
  "language_info": {
   "codemirror_mode": {
    "name": "ipython",
    "version": 3
   },
   "file_extension": ".py",
   "mimetype": "text/x-python",
   "name": "python",
   "nbconvert_exporter": "python",
   "pygments_lexer": "ipython3",
   "version": "3.7.4"
  }
 },
 "nbformat": 4,
 "nbformat_minor": 4
}
